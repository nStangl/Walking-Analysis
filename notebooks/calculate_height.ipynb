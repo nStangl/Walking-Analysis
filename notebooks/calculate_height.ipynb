{
 "cells": [
  {
   "cell_type": "code",
   "execution_count": 128,
   "id": "121667aa-8310-4097-aa19-01ce9efdf736",
   "metadata": {},
   "outputs": [],
   "source": [
    "import joblib\n",
    "import numpy as np"
   ]
  },
  {
   "cell_type": "code",
   "execution_count": 129,
   "id": "ae8c46af",
   "metadata": {},
   "outputs": [],
   "source": [
    "SMPL_LANDMARK_INDICES = {\"HEAD_TOP\": 412,\n",
    "                    \"HEAD_LEFT_TEMPLE\": 166,\n",
    "                    \"NECK_ADAM_APPLE\": 3050,\n",
    "                    \"LEFT_HEEL\": 3458,\n",
    "                    \"RIGHT_HEEL\": 6858,\n",
    "                    \"LEFT_NIPPLE\": 3042,\n",
    "                    \"RIGHT_NIPPLE\": 6489,\n",
    "\n",
    "                    \"SHOULDER_TOP\": 3068,\n",
    "                    \"INSEAM_POINT\": 3149,\n",
    "                    \"BELLY_BUTTON\": 3501,\n",
    "                    \"BACK_BELLY_BUTTON\": 3022,\n",
    "                    \"CROTCH\": 1210,\n",
    "                    \"PUBIC_BONE\": 3145,\n",
    "                    \"RIGHT_WRIST\": 5559,\n",
    "                    \"LEFT_WRIST\": 2241,\n",
    "                    \"RIGHT_BICEP\": 4855,\n",
    "                    \"RIGHT_FOREARM\": 5197,\n",
    "                    \"LEFT_SHOULDER\": 3011,\n",
    "                    \"RIGHT_SHOULDER\": 6470,\n",
    "                    \"LOW_LEFT_HIP\": 3134,\n",
    "                    \"LEFT_THIGH\": 947,\n",
    "                    \"LEFT_CALF\": 1103,\n",
    "                    \"LEFT_ANKLE\": 3325\n",
    "                    }\n",
    "\n",
    "SMPL_LANDMARK_INDICES[\"HEELS\"] = (SMPL_LANDMARK_INDICES[\"LEFT_HEEL\"], \n",
    "                                  SMPL_LANDMARK_INDICES[\"RIGHT_HEEL\"])"
   ]
  },
  {
   "cell_type": "code",
   "execution_count": 153,
   "id": "43a0659e",
   "metadata": {},
   "outputs": [],
   "source": [
    "LENGTHS = {\"height\": \n",
    "                    (SMPL_LANDMARK_INDICES[\"HEAD_TOP\"], \n",
    "                     SMPL_LANDMARK_INDICES[\"HEELS\"]\n",
    "                     ),\n",
    "               \"shoulder to crotch height\": \n",
    "                    (SMPL_LANDMARK_INDICES[\"SHOULDER_TOP\"], \n",
    "                     SMPL_LANDMARK_INDICES[\"INSEAM_POINT\"]\n",
    "                    ),\n",
    "                \"arm left length\": \n",
    "                    (SMPL_LANDMARK_INDICES[\"LEFT_SHOULDER\"], \n",
    "                     SMPL_LANDMARK_INDICES[\"LEFT_WRIST\"]\n",
    "                    ),\n",
    "                \"arm right length\":\n",
    "                    (SMPL_LANDMARK_INDICES[\"RIGHT_SHOULDER\"], \n",
    "                     SMPL_LANDMARK_INDICES[\"RIGHT_WRIST\"]\n",
    "                    ),\n",
    "                \"inside leg height\": \n",
    "                    (SMPL_LANDMARK_INDICES[\"LOW_LEFT_HIP\"], \n",
    "                     SMPL_LANDMARK_INDICES[\"LEFT_ANKLE\"]\n",
    "                    ),\n",
    "                \"shoulder breadth\": \n",
    "                    (SMPL_LANDMARK_INDICES[\"LEFT_SHOULDER\"], \n",
    "                     SMPL_LANDMARK_INDICES[\"RIGHT_SHOULDER\"]\n",
    "                    ),\n",
    "               }\n"
   ]
  },
  {
   "cell_type": "code",
   "execution_count": 154,
   "id": "e1adc0ec",
   "metadata": {},
   "outputs": [],
   "source": [
    "results = joblib.load(\"demo_out/niklas/000016_out.pkl\")\n",
    "verts = results[\"pred_vertices\"]"
   ]
  },
  {
   "cell_type": "code",
   "execution_count": 155,
   "id": "8c89c2de",
   "metadata": {},
   "outputs": [],
   "source": [
    "verts = verts.cpu()"
   ]
  },
  {
   "cell_type": "code",
   "execution_count": 156,
   "id": "92344a04",
   "metadata": {},
   "outputs": [
    {
     "data": {
      "text/plain": [
       "torch.Size([1, 6890, 3])"
      ]
     },
     "execution_count": 156,
     "metadata": {},
     "output_type": "execute_result"
    }
   ],
   "source": [
    "verts.shape"
   ]
  },
  {
   "cell_type": "code",
   "execution_count": 157,
   "id": "8da837fc",
   "metadata": {},
   "outputs": [
    {
     "data": {
      "text/plain": [
       "(412, (3458, 6858))"
      ]
     },
     "execution_count": 157,
     "metadata": {},
     "output_type": "execute_result"
    }
   ],
   "source": [
    "measurement_landmarks_inds"
   ]
  },
  {
   "cell_type": "code",
   "execution_count": 158,
   "id": "c2af30e8",
   "metadata": {},
   "outputs": [],
   "source": [
    "measurement_landmarks_inds = LENGTHS[\"arm left length\"]\n",
    "\n",
    "landmark_points = []\n",
    "for i in range(2):\n",
    "    if isinstance(measurement_landmarks_inds[i],tuple):\n",
    "        # if touple of indices for landmark, take their average\n",
    "        lm = (verts[0][measurement_landmarks_inds[i][0]] + \n",
    "                  verts[0][measurement_landmarks_inds[i][1]]) / 2\n",
    "    else:\n",
    "        lm = verts[0][measurement_landmarks_inds[i]]\n",
    "\n",
    "    landmark_points.append(lm)\n",
    "\n",
    "landmark_points = np.vstack(landmark_points)[None,...]"
   ]
  },
  {
   "cell_type": "code",
   "execution_count": 159,
   "id": "adf2ed5c",
   "metadata": {},
   "outputs": [],
   "source": [
    "verts_distances = np.linalg.norm(landmark_points[:, 1] - landmark_points[:, 0],axis=1)\n",
    "distance = np.sum(verts_distances)\n",
    "distance_cm = distance * 100 # convert to cm"
   ]
  },
  {
   "cell_type": "code",
   "execution_count": 160,
   "id": "babf8ff9",
   "metadata": {},
   "outputs": [
    {
     "data": {
      "text/plain": [
       "45.90449631214142"
      ]
     },
     "execution_count": 160,
     "metadata": {},
     "output_type": "execute_result"
    }
   ],
   "source": [
    "distance_cm"
   ]
  },
  {
   "cell_type": "code",
   "execution_count": 87,
   "id": "dd822ccc-6de4-43a5-8cb6-acf5aa93a2e4",
   "metadata": {},
   "outputs": [],
   "source": [
    "results = joblib.load(\"demo_out/gosia/gosia_out.pkl\")"
   ]
  },
  {
   "cell_type": "code",
   "execution_count": 88,
   "id": "3c599539-954f-4d42-aae7-df69772817b1",
   "metadata": {},
   "outputs": [
    {
     "data": {
      "text/plain": [
       "dict_keys(['pred_cam', 'pred_smpl_params', 'pred_cam_t', 'focal_length', 'pred_keypoints_3d', 'pred_vertices', 'pred_keypoints_2d'])"
      ]
     },
     "execution_count": 88,
     "metadata": {},
     "output_type": "execute_result"
    }
   ],
   "source": [
    "results.keys()"
   ]
  },
  {
   "cell_type": "code",
   "execution_count": 89,
   "id": "05193457",
   "metadata": {},
   "outputs": [
    {
     "data": {
      "text/plain": [
       "torch.Size([1, 6890, 3])"
      ]
     },
     "execution_count": 89,
     "metadata": {},
     "output_type": "execute_result"
    }
   ],
   "source": [
    "results[\"pred_vertices\"].shape"
   ]
  },
  {
   "cell_type": "code",
   "execution_count": 90,
   "id": "aba0eb2e",
   "metadata": {},
   "outputs": [],
   "source": [
    "top_head_y = results[\"pred_vertices\"][0,412,1]\n",
    "left_heal_y = results[\"pred_vertices\"][0, 3458, 1]\n",
    "right_heal_y = results[\"pred_vertices\"][0, 6858, 1]"
   ]
  },
  {
   "cell_type": "code",
   "execution_count": 91,
   "id": "8e904b76",
   "metadata": {},
   "outputs": [],
   "source": [
    "height = abs(top_head_y) + (left_heal_y + right_heal_y) / 2"
   ]
  },
  {
   "cell_type": "code",
   "execution_count": 92,
   "id": "025f6e7e",
   "metadata": {},
   "outputs": [
    {
     "data": {
      "text/plain": [
       "tensor(1.6868, device='cuda:0')"
      ]
     },
     "execution_count": 92,
     "metadata": {},
     "output_type": "execute_result"
    }
   ],
   "source": [
    "height"
   ]
  },
  {
   "cell_type": "code",
   "execution_count": 102,
   "id": "0e07d2ca",
   "metadata": {},
   "outputs": [],
   "source": [
    "top_head = results[\"pred_vertices\"][0,412]\n",
    "left_heal_= results[\"pred_vertices\"][0, 3458]\n",
    "right_heal = results[\"pred_vertices\"][0, 6858]"
   ]
  },
  {
   "cell_type": "code",
   "execution_count": null,
   "id": "64800a1c",
   "metadata": {},
   "outputs": [],
   "source": [
    "landmark_points = []\n",
    "for i in range(2):\n",
    "    if isinstance(measurement_landmarks_inds[i],tuple):\n",
    "        # if touple of indices for landmark, take their average\n",
    "        lm = (self.verts[measurement_landmarks_inds[i][0]] + \n",
    "                  self.verts[measurement_landmarks_inds[i][1]]) / 2\n",
    "    else:\n",
    "        lm = self.verts[measurement_landmarks_inds[i]]\n",
    "\n",
    "    landmark_points.append(lm)\n",
    "\n",
    "landmark_points = np.vstack(landmark_points)[None,...]\n",
    "\n",
    "return self._get_dist(landmark_points)\n"
   ]
  },
  {
   "cell_type": "code",
   "execution_count": 96,
   "id": "a5b4846f",
   "metadata": {},
   "outputs": [],
   "source": [
    "verts = []\n",
    "verts.append(top_head)\n",
    "verts.append((left_heal + right_heal) / 2)"
   ]
  },
  {
   "cell_type": "code",
   "execution_count": 97,
   "id": "5f9a8be5",
   "metadata": {},
   "outputs": [
    {
     "data": {
      "text/plain": [
       "[tensor([ 0.0041, -0.9953, -0.0365], device='cuda:0'),\n",
       " tensor([0.3135, 0.6914, 0.4410], device='cuda:0')]"
      ]
     },
     "execution_count": 97,
     "metadata": {},
     "output_type": "execute_result"
    }
   ],
   "source": [
    "verts"
   ]
  },
  {
   "cell_type": "code",
   "execution_count": 98,
   "id": "080cd9a9",
   "metadata": {},
   "outputs": [],
   "source": [
    "verts = [[0.0041, -0.9953, -0.0365], [0.3135, 0.6914, 0.4410]]"
   ]
  },
  {
   "cell_type": "code",
   "execution_count": 99,
   "id": "4d3f8bbf",
   "metadata": {},
   "outputs": [],
   "source": [
    "verts = np.vstack(verts)[None,...]"
   ]
  },
  {
   "cell_type": "code",
   "execution_count": 100,
   "id": "69383eda",
   "metadata": {},
   "outputs": [],
   "source": [
    "verts_distances = np.linalg.norm(verts[:, 1] - verts[:, 0],axis=1)\n",
    "distance = np.sum(verts_distances)\n",
    "distance_cm = distance * 100 # convert to cm"
   ]
  },
  {
   "cell_type": "code",
   "execution_count": 101,
   "id": "1316149d",
   "metadata": {},
   "outputs": [
    {
     "data": {
      "text/plain": [
       "178.00818801392256"
      ]
     },
     "execution_count": 101,
     "metadata": {},
     "output_type": "execute_result"
    }
   ],
   "source": [
    "distance_cm"
   ]
  },
  {
   "cell_type": "code",
   "execution_count": 41,
   "id": "b8f0747e",
   "metadata": {},
   "outputs": [
    {
     "data": {
      "text/plain": [
       "tensor(-0.2472, device='cuda:0')"
      ]
     },
     "execution_count": 41,
     "metadata": {},
     "output_type": "execute_result"
    }
   ],
   "source": [
    "results[\"pred_vertices\"][0,:,0].min()"
   ]
  },
  {
   "cell_type": "code",
   "execution_count": 40,
   "id": "ca9ba889",
   "metadata": {},
   "outputs": [
    {
     "data": {
      "text/plain": [
       "tensor(0.1929, device='cuda:0')"
      ]
     },
     "execution_count": 40,
     "metadata": {},
     "output_type": "execute_result"
    }
   ],
   "source": [
    "results[\"pred_vertices\"][0,:,2].max()"
   ]
  },
  {
   "cell_type": "code",
   "execution_count": 39,
   "id": "9c6788f7",
   "metadata": {},
   "outputs": [
    {
     "data": {
      "text/plain": [
       "tensor(-0.2389, device='cuda:0')"
      ]
     },
     "execution_count": 39,
     "metadata": {},
     "output_type": "execute_result"
    }
   ],
   "source": [
    "results[\"pred_vertices\"][0,:,2].min()"
   ]
  },
  {
   "cell_type": "code",
   "execution_count": 38,
   "id": "1637281e",
   "metadata": {},
   "outputs": [
    {
     "data": {
      "text/plain": [
       "tensor(-1.7446, device='cuda:0')"
      ]
     },
     "execution_count": 38,
     "metadata": {},
     "output_type": "execute_result"
    }
   ],
   "source": [
    "results[\"pred_vertices\"][0,:,1].min() - results[\"pred_vertices\"][0,:,1].max()"
   ]
  },
  {
   "cell_type": "code",
   "execution_count": 4,
   "id": "f4bcbeb8-ecf6-485c-967f-f156d222a027",
   "metadata": {},
   "outputs": [],
   "source": [
    "results2 = joblib.load(\"outputs/results/demo_girl.pkl\")"
   ]
  },
  {
   "cell_type": "code",
   "execution_count": 15,
   "id": "bd0c5299-e468-4877-8d91-2ba8cb94881a",
   "metadata": {},
   "outputs": [
    {
     "data": {
      "text/plain": [
       "[array([ 1.2312359 , -0.13974237,  0.21560507], dtype=float32)]"
      ]
     },
     "execution_count": 15,
     "metadata": {},
     "output_type": "execute_result"
    }
   ],
   "source": [
    "results2[\"outputs//_DEMO/girl/img\\\\000040.jpg\"][\"camera_bbox\"]"
   ]
  },
  {
   "cell_type": "code",
   "execution_count": 27,
   "id": "55941e69-31ab-41ee-b210-23a460a32ccf",
   "metadata": {},
   "outputs": [],
   "source": [
    "left_foot_x = []\n",
    "left_foot_y = []"
   ]
  },
  {
   "cell_type": "code",
   "execution_count": 108,
   "id": "97a04691-47b0-408f-9771-6d320ce77aab",
   "metadata": {},
   "outputs": [],
   "source": [
    "for frame in results.keys():\n",
    "    if len(results[frame][\"3d_joints\"]) > 0:\n",
    "        left_foot_x.append(results[frame][\"3d_joints\"][0][4][0])\n",
    "        left_foot_y.append(results[frame][\"3d_joints\"][0][4][1])"
   ]
  },
  {
   "cell_type": "code",
   "execution_count": 7,
   "id": "25e9bd5b-f05a-4988-8ed8-214ff7eabe60",
   "metadata": {},
   "outputs": [],
   "source": [
    "from matplotlib import pyplot as plt"
   ]
  },
  {
   "cell_type": "code",
   "execution_count": 29,
   "id": "cd63cfd9-9046-44cb-b484-d99a25ec65b6",
   "metadata": {},
   "outputs": [
    {
     "data": {
      "text/plain": [
       "[<matplotlib.lines.Line2D at 0x2311ba51270>]"
      ]
     },
     "execution_count": 29,
     "metadata": {},
     "output_type": "execute_result"
    },
    {
     "data": {
      "image/png": "[encoded data removed]",
      "text/plain": [
       "<Figure size 640x480 with 1 Axes>"
      ]
     },
     "metadata": {},
     "output_type": "display_data"
    }
   ],
   "source": [
    "plt.plot(range(len(left_foot_x)), left_foot_y, \".\")"
   ]
  },
  {
   "cell_type": "code",
   "execution_count": 28,
   "id": "1d4c9db8-11b1-446f-aa73-6b0bc0ca4282",
   "metadata": {},
   "outputs": [],
   "source": [
    "for frame in results.keys():\n",
    "    if len(results[frame][\"smpl\"]) > 0:\n",
    "        left_foot_x.append(results[frame][\"smpl\"][0]['body_pose'][6][0][0])\n",
    "        left_foot_y.append(results[frame][\"smpl\"][0]['body_pose'][6][1][0])"
   ]
  },
  {
   "cell_type": "code",
   "execution_count": null,
   "id": "777eb5a6-edf3-480e-addd-2461c88b3e0b",
   "metadata": {},
   "outputs": [],
   "source": []
  }
 ],
 "metadata": {
  "kernelspec": {
   "display_name": "4d-humans",
   "language": "python",
   "name": "4d-humans"
  },
  "language_info": {
   "codemirror_mode": {
    "name": "ipython",
    "version": 3
   },
   "file_extension": ".py",
   "mimetype": "text/x-python",
   "name": "python",
   "nbconvert_exporter": "python",
   "pygments_lexer": "ipython3",
   "version": "3.10.13"
  }
 },
 "nbformat": 4,
 "nbformat_minor": 5
}
